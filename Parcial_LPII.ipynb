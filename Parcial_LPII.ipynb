{
 "cells": [
  {
   "cell_type": "markdown",
   "id": "14a2fd96",
   "metadata": {},
   "source": [
    " # <span style=\"color:red\"> TUTORIAL DEL PAQUETE POLAR\n",
    "    "
   ]
  },
  {
   "cell_type": "markdown",
   "id": "aa07a0e0",
   "metadata": {},
   "source": [
    "## ¿ Qué es el paquete Polar ?\n",
    "\n",
    "Es un paquete de python, que ayuda "
   ]
  },
  {
   "cell_type": "code",
   "execution_count": null,
   "id": "50ca49ad",
   "metadata": {},
   "outputs": [],
   "source": []
  }
 ],
 "metadata": {
  "kernelspec": {
   "display_name": "Python 3 (ipykernel)",
   "language": "python",
   "name": "python3"
  },
  "language_info": {
   "codemirror_mode": {
    "name": "ipython",
    "version": 3
   },
   "file_extension": ".py",
   "mimetype": "text/x-python",
   "name": "python",
   "nbconvert_exporter": "python",
   "pygments_lexer": "ipython3",
   "version": "3.9.13"
  }
 },
 "nbformat": 4,
 "nbformat_minor": 5
}
