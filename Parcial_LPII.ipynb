{
 "cells": [
  {
   "attachments": {},
   "cell_type": "markdown",
   "id": "14a2fd96",
   "metadata": {},
   "source": [
    " # <span style=\"color:red\"> TUTORIAL DEL PAQUETE POLAR\n",
    "    "
   ]
  },
  {
   "cell_type": "code",
   "execution_count": 60,
   "id": "50ca49ad",
   "metadata": {},
   "outputs": [],
   "source": [
    "import polars as pl\n",
    "import numpy as np"
   ]
  },
  {
   "cell_type": "code",
   "execution_count": 61,
   "id": "c723130c",
   "metadata": {},
   "outputs": [
    {
     "name": "stdout",
     "output_type": "stream",
     "text": [
      "shape: (10, 5)\n",
      "┌───────────────────┬──────────────────┬───────────────────┬──────────────────┬─────────────┐\n",
      "│ sepal length (cm) ┆ sepal width (cm) ┆ petal length (cm) ┆ petal width (cm) ┆ target      │\n",
      "│ ---               ┆ ---              ┆ ---               ┆ ---              ┆ ---         │\n",
      "│ f64               ┆ f64              ┆ f64               ┆ f64              ┆ str         │\n",
      "╞═══════════════════╪══════════════════╪═══════════════════╪══════════════════╪═════════════╡\n",
      "│ 5.1               ┆ 3.5              ┆ 1.4               ┆ 0.2              ┆ Iris-setosa │\n",
      "│ 4.9               ┆ 3.0              ┆ 1.4               ┆ 0.2              ┆ Iris-setosa │\n",
      "│ 4.7               ┆ 3.2              ┆ 1.3               ┆ 0.2              ┆ Iris-setosa │\n",
      "│ 4.6               ┆ 3.1              ┆ 1.5               ┆ 0.2              ┆ Iris-setosa │\n",
      "│ …                 ┆ …                ┆ …                 ┆ …                ┆ …           │\n",
      "│ 4.6               ┆ 3.4              ┆ 1.4               ┆ 0.3              ┆ Iris-setosa │\n",
      "│ 5.0               ┆ 3.4              ┆ 1.5               ┆ 0.2              ┆ Iris-setosa │\n",
      "│ 4.4               ┆ 2.9              ┆ 1.4               ┆ 0.2              ┆ Iris-setosa │\n",
      "│ 4.9               ┆ 3.1              ┆ 1.5               ┆ 0.1              ┆ Iris-setosa │\n",
      "└───────────────────┴──────────────────┴───────────────────┴──────────────────┴─────────────┘\n",
      "(150, 5)\n"
     ]
    }
   ],
   "source": [
    "df = pl.read_csv(\"iris_dataset.csv\")\n",
    "print(df.head(10)) # me imprime los 10 primeros regristros\n",
    "print(df.shape) # me muestra las dimensiones de la data frame\n",
    "# un dato importante es que nos muestra la estructura de cada variable"
   ]
  },
  {
   "attachments": {},
   "cell_type": "markdown",
   "id": "d8de061b",
   "metadata": {},
   "source": [
    "## Argumentos para la funcion pl.read_csv()\n",
    "- source : str, viene a ser el path del archivo, en este caso un cvs  \n",
    "- has_header : bool = True, toma como la primera fila el nombre de las columnas  \n",
    "- columns : sequence[int], una lista formado por valores enteros que me seleccionan las columnas a trabajar  \n",
    "- new_columns : sequence[str], una lista de valores tipo character que vienen ser los nombres de las columnas a trabajar  \n",
    "- separator : str, por defecto toma el utf8, pero puede tomar \",\".\n",
    "- ignore_errors : bool = False, esto fuerza al archivo a leer sin importar los errores que pueden haber.  \n",
    "- encoding : str = \"utf8\", es el decodificador, puede tomar otros valores como utf16, latin1, etc."
   ]
  },
  {
   "attachments": {},
   "cell_type": "markdown",
   "id": "90c4a37b",
   "metadata": {},
   "source": [
    "## <span style=\"color:green\">LA FUNCIÓN \"frac\" NOS PERMITE IMPRIMIR UN PORCENTAGE DEL ARCHIVO CON LAS FILAS ALEATORIAS\n",
    "## <span style=\"color:green\"> Ejm:\n"
   ]
  },
  {
   "cell_type": "code",
   "execution_count": 62,
   "id": "2f1d7190",
   "metadata": {},
   "outputs": [
    {
     "data": {
      "text/html": [
       "<div><style>\n",
       ".dataframe > thead > tr > th,\n",
       ".dataframe > tbody > tr > td {\n",
       "  text-align: right;\n",
       "}\n",
       "</style>\n",
       "<small>shape: (15, 5)</small><table border=\"1\" class=\"dataframe\"><thead><tr><th>sepal length (cm)</th><th>sepal width (cm)</th><th>petal length (cm)</th><th>petal width (cm)</th><th>target</th></tr><tr><td>f64</td><td>f64</td><td>f64</td><td>f64</td><td>str</td></tr></thead><tbody><tr><td>5.7</td><td>2.5</td><td>5.0</td><td>2.0</td><td>&quot;Iris-virginica…</td></tr><tr><td>5.7</td><td>2.8</td><td>4.1</td><td>1.3</td><td>&quot;Iris-versicolo…</td></tr><tr><td>5.6</td><td>2.7</td><td>4.2</td><td>1.3</td><td>&quot;Iris-versicolo…</td></tr><tr><td>4.8</td><td>3.0</td><td>1.4</td><td>0.3</td><td>&quot;Iris-setosa&quot;</td></tr><tr><td>5.6</td><td>3.0</td><td>4.5</td><td>1.5</td><td>&quot;Iris-versicolo…</td></tr><tr><td>5.6</td><td>2.8</td><td>4.9</td><td>2.0</td><td>&quot;Iris-virginica…</td></tr><tr><td>6.3</td><td>2.5</td><td>4.9</td><td>1.5</td><td>&quot;Iris-versicolo…</td></tr><tr><td>5.8</td><td>2.7</td><td>5.1</td><td>1.9</td><td>&quot;Iris-virginica…</td></tr><tr><td>4.4</td><td>2.9</td><td>1.4</td><td>0.2</td><td>&quot;Iris-setosa&quot;</td></tr><tr><td>5.7</td><td>2.6</td><td>3.5</td><td>1.0</td><td>&quot;Iris-versicolo…</td></tr><tr><td>5.5</td><td>2.3</td><td>4.0</td><td>1.3</td><td>&quot;Iris-versicolo…</td></tr><tr><td>4.8</td><td>3.4</td><td>1.6</td><td>0.2</td><td>&quot;Iris-setosa&quot;</td></tr><tr><td>6.9</td><td>3.1</td><td>5.4</td><td>2.1</td><td>&quot;Iris-virginica…</td></tr><tr><td>6.4</td><td>3.1</td><td>5.5</td><td>1.8</td><td>&quot;Iris-virginica…</td></tr><tr><td>5.2</td><td>3.4</td><td>1.4</td><td>0.2</td><td>&quot;Iris-setosa&quot;</td></tr></tbody></table></div>"
      ],
      "text/plain": [
       "shape: (15, 5)\n",
       "┌───────────────────┬──────────────────┬───────────────────┬──────────────────┬─────────────────┐\n",
       "│ sepal length (cm) ┆ sepal width (cm) ┆ petal length (cm) ┆ petal width (cm) ┆ target          │\n",
       "│ ---               ┆ ---              ┆ ---               ┆ ---              ┆ ---             │\n",
       "│ f64               ┆ f64              ┆ f64               ┆ f64              ┆ str             │\n",
       "╞═══════════════════╪══════════════════╪═══════════════════╪══════════════════╪═════════════════╡\n",
       "│ 5.7               ┆ 2.5              ┆ 5.0               ┆ 2.0              ┆ Iris-virginica  │\n",
       "│ 5.7               ┆ 2.8              ┆ 4.1               ┆ 1.3              ┆ Iris-versicolor │\n",
       "│ 5.6               ┆ 2.7              ┆ 4.2               ┆ 1.3              ┆ Iris-versicolor │\n",
       "│ 4.8               ┆ 3.0              ┆ 1.4               ┆ 0.3              ┆ Iris-setosa     │\n",
       "│ …                 ┆ …                ┆ …                 ┆ …                ┆ …               │\n",
       "│ 4.8               ┆ 3.4              ┆ 1.6               ┆ 0.2              ┆ Iris-setosa     │\n",
       "│ 6.9               ┆ 3.1              ┆ 5.4               ┆ 2.1              ┆ Iris-virginica  │\n",
       "│ 6.4               ┆ 3.1              ┆ 5.5               ┆ 1.8              ┆ Iris-virginica  │\n",
       "│ 5.2               ┆ 3.4              ┆ 1.4               ┆ 0.2              ┆ Iris-setosa     │\n",
       "└───────────────────┴──────────────────┴───────────────────┴──────────────────┴─────────────────┘"
      ]
     },
     "execution_count": 62,
     "metadata": {},
     "output_type": "execute_result"
    }
   ],
   "source": [
    "df.sample(fraction=0.1) #estoy pidiendo que me imprima el 10% del documento con las filas aleatorias por la función sample"
   ]
  },
  {
   "cell_type": "code",
   "execution_count": 63,
   "id": "598b19aa",
   "metadata": {},
   "outputs": [
    {
     "data": {
      "text/html": [
       "<div><style>\n",
       ".dataframe > thead > tr > th,\n",
       ".dataframe > tbody > tr > td {\n",
       "  text-align: right;\n",
       "}\n",
       "</style>\n",
       "<small>shape: (10, 5)</small><table border=\"1\" class=\"dataframe\"><thead><tr><th>sepal length (cm)</th><th>sepal width (cm)</th><th>petal length (cm)</th><th>petal width (cm)</th><th>target</th></tr><tr><td>f64</td><td>f64</td><td>f64</td><td>f64</td><td>str</td></tr></thead><tbody><tr><td>5.4</td><td>3.9</td><td>1.3</td><td>0.4</td><td>&quot;Iris-setosa&quot;</td></tr><tr><td>5.5</td><td>3.5</td><td>1.3</td><td>0.2</td><td>&quot;Iris-setosa&quot;</td></tr><tr><td>7.0</td><td>3.2</td><td>4.7</td><td>1.4</td><td>&quot;Iris-versicolo…</td></tr><tr><td>5.1</td><td>2.5</td><td>3.0</td><td>1.1</td><td>&quot;Iris-versicolo…</td></tr><tr><td>6.5</td><td>3.2</td><td>5.1</td><td>2.0</td><td>&quot;Iris-virginica…</td></tr><tr><td>5.4</td><td>3.9</td><td>1.7</td><td>0.4</td><td>&quot;Iris-setosa&quot;</td></tr><tr><td>5.0</td><td>3.2</td><td>1.2</td><td>0.2</td><td>&quot;Iris-setosa&quot;</td></tr><tr><td>5.9</td><td>3.2</td><td>4.8</td><td>1.8</td><td>&quot;Iris-versicolo…</td></tr><tr><td>6.9</td><td>3.1</td><td>4.9</td><td>1.5</td><td>&quot;Iris-versicolo…</td></tr><tr><td>4.9</td><td>3.1</td><td>1.5</td><td>0.1</td><td>&quot;Iris-setosa&quot;</td></tr></tbody></table></div>"
      ],
      "text/plain": [
       "shape: (10, 5)\n",
       "┌───────────────────┬──────────────────┬───────────────────┬──────────────────┬─────────────────┐\n",
       "│ sepal length (cm) ┆ sepal width (cm) ┆ petal length (cm) ┆ petal width (cm) ┆ target          │\n",
       "│ ---               ┆ ---              ┆ ---               ┆ ---              ┆ ---             │\n",
       "│ f64               ┆ f64              ┆ f64               ┆ f64              ┆ str             │\n",
       "╞═══════════════════╪══════════════════╪═══════════════════╪══════════════════╪═════════════════╡\n",
       "│ 5.4               ┆ 3.9              ┆ 1.3               ┆ 0.4              ┆ Iris-setosa     │\n",
       "│ 5.5               ┆ 3.5              ┆ 1.3               ┆ 0.2              ┆ Iris-setosa     │\n",
       "│ 7.0               ┆ 3.2              ┆ 4.7               ┆ 1.4              ┆ Iris-versicolor │\n",
       "│ 5.1               ┆ 2.5              ┆ 3.0               ┆ 1.1              ┆ Iris-versicolor │\n",
       "│ …                 ┆ …                ┆ …                 ┆ …                ┆ …               │\n",
       "│ 5.0               ┆ 3.2              ┆ 1.2               ┆ 0.2              ┆ Iris-setosa     │\n",
       "│ 5.9               ┆ 3.2              ┆ 4.8               ┆ 1.8              ┆ Iris-versicolor │\n",
       "│ 6.9               ┆ 3.1              ┆ 4.9               ┆ 1.5              ┆ Iris-versicolor │\n",
       "│ 4.9               ┆ 3.1              ┆ 1.5               ┆ 0.1              ┆ Iris-setosa     │\n",
       "└───────────────────┴──────────────────┴───────────────────┴──────────────────┴─────────────────┘"
      ]
     },
     "execution_count": 63,
     "metadata": {},
     "output_type": "execute_result"
    }
   ],
   "source": [
    "# tambien nos puede servir como una opcion alternativa a df.head(10)\n",
    "df.sample(n=10)"
   ]
  },
  {
   "attachments": {},
   "cell_type": "markdown",
   "id": "babd7cc1",
   "metadata": {},
   "source": [
    "## <span style=\"color:green\">LA FUNCIÓN \"pl.exclude()\" excluye una columna\n",
    "    \n",
    "## <span style=\"color:green\"> Ejm:"
   ]
  },
  {
   "attachments": {},
   "cell_type": "markdown",
   "id": "97183336",
   "metadata": {},
   "source": [
    "### En el caso que yo quiera eliminar la columna 'sepal length' "
   ]
  },
  {
   "cell_type": "code",
   "execution_count": 64,
   "metadata": {},
   "outputs": [
    {
     "data": {
      "text/html": [
       "<div><style>\n",
       ".dataframe > thead > tr > th,\n",
       ".dataframe > tbody > tr > td {\n",
       "  text-align: right;\n",
       "}\n",
       "</style>\n",
       "<small>shape: (3, 5)</small><table border=\"1\" class=\"dataframe\"><thead><tr><th>sepal length (cm)</th><th>sepal width (cm)</th><th>petal length (cm)</th><th>petal width (cm)</th><th>target</th></tr><tr><td>f64</td><td>f64</td><td>f64</td><td>f64</td><td>str</td></tr></thead><tbody><tr><td>5.0</td><td>3.0</td><td>1.6</td><td>0.2</td><td>&quot;Iris-setosa&quot;</td></tr><tr><td>6.3</td><td>2.5</td><td>5.0</td><td>1.9</td><td>&quot;Iris-virginica…</td></tr><tr><td>6.2</td><td>3.4</td><td>5.4</td><td>2.3</td><td>&quot;Iris-virginica…</td></tr></tbody></table></div>"
      ],
      "text/plain": [
       "shape: (3, 5)\n",
       "┌───────────────────┬──────────────────┬───────────────────┬──────────────────┬────────────────┐\n",
       "│ sepal length (cm) ┆ sepal width (cm) ┆ petal length (cm) ┆ petal width (cm) ┆ target         │\n",
       "│ ---               ┆ ---              ┆ ---               ┆ ---              ┆ ---            │\n",
       "│ f64               ┆ f64              ┆ f64               ┆ f64              ┆ str            │\n",
       "╞═══════════════════╪══════════════════╪═══════════════════╪══════════════════╪════════════════╡\n",
       "│ 5.0               ┆ 3.0              ┆ 1.6               ┆ 0.2              ┆ Iris-setosa    │\n",
       "│ 6.3               ┆ 2.5              ┆ 5.0               ┆ 1.9              ┆ Iris-virginica │\n",
       "│ 6.2               ┆ 3.4              ┆ 5.4               ┆ 2.3              ┆ Iris-virginica │\n",
       "└───────────────────┴──────────────────┴───────────────────┴──────────────────┴────────────────┘"
      ]
     },
     "execution_count": 64,
     "metadata": {},
     "output_type": "execute_result"
    }
   ],
   "source": [
    "df.sample(n=3) # me muestra los 3 primeros registros"
   ]
  },
  {
   "cell_type": "code",
   "execution_count": 65,
   "id": "14049ab7",
   "metadata": {},
   "outputs": [
    {
     "data": {
      "text/html": [
       "<div><style>\n",
       ".dataframe > thead > tr > th,\n",
       ".dataframe > tbody > tr > td {\n",
       "  text-align: right;\n",
       "}\n",
       "</style>\n",
       "<small>shape: (5, 4)</small><table border=\"1\" class=\"dataframe\"><thead><tr><th>sepal width (cm)</th><th>petal length (cm)</th><th>petal width (cm)</th><th>target</th></tr><tr><td>f64</td><td>f64</td><td>f64</td><td>str</td></tr></thead><tbody><tr><td>3.5</td><td>1.4</td><td>0.2</td><td>&quot;Iris-setosa&quot;</td></tr><tr><td>3.0</td><td>1.4</td><td>0.2</td><td>&quot;Iris-setosa&quot;</td></tr><tr><td>3.2</td><td>1.3</td><td>0.2</td><td>&quot;Iris-setosa&quot;</td></tr><tr><td>3.1</td><td>1.5</td><td>0.2</td><td>&quot;Iris-setosa&quot;</td></tr><tr><td>3.6</td><td>1.4</td><td>0.2</td><td>&quot;Iris-setosa&quot;</td></tr></tbody></table></div>"
      ],
      "text/plain": [
       "shape: (5, 4)\n",
       "┌──────────────────┬───────────────────┬──────────────────┬─────────────┐\n",
       "│ sepal width (cm) ┆ petal length (cm) ┆ petal width (cm) ┆ target      │\n",
       "│ ---              ┆ ---               ┆ ---              ┆ ---         │\n",
       "│ f64              ┆ f64               ┆ f64              ┆ str         │\n",
       "╞══════════════════╪═══════════════════╪══════════════════╪═════════════╡\n",
       "│ 3.5              ┆ 1.4               ┆ 0.2              ┆ Iris-setosa │\n",
       "│ 3.0              ┆ 1.4               ┆ 0.2              ┆ Iris-setosa │\n",
       "│ 3.2              ┆ 1.3               ┆ 0.2              ┆ Iris-setosa │\n",
       "│ 3.1              ┆ 1.5               ┆ 0.2              ┆ Iris-setosa │\n",
       "│ 3.6              ┆ 1.4               ┆ 0.2              ┆ Iris-setosa │\n",
       "└──────────────────┴───────────────────┴──────────────────┴─────────────┘"
      ]
     },
     "execution_count": 65,
     "metadata": {},
     "output_type": "execute_result"
    }
   ],
   "source": [
    "df.select([pl.exclude('sepal length (cm)')]).head()\n",
    "# se elimina la columna 'sepal length (cm)'"
   ]
  },
  {
   "attachments": {},
   "cell_type": "markdown",
   "id": "0454e909",
   "metadata": {},
   "source": [
    "## <span style=\"color:green\"> LA FUNCIÓN \"df.filter()\" FILTRA LOS VALORES DEL ARCHIVO, AYUDANDO MANIPULAR UN COJUNTO DE DATOS MÁS EXTENSO\n",
    "\n",
    "## <span style=\"color:green\">Ejm:"
   ]
  },
  {
   "attachments": {},
   "cell_type": "markdown",
   "id": "48d68535",
   "metadata": {},
   "source": [
    "### Supongamos que quiero filtrar, solo las plantas con \"sepal length\" menores a 6.5 y tambien los que tienen los \"petal length\" menores a 1.5 "
   ]
  },
  {
   "cell_type": "code",
   "execution_count": 66,
   "id": "d48d68db",
   "metadata": {},
   "outputs": [
    {
     "data": {
      "text/html": [
       "<div><style>\n",
       ".dataframe > thead > tr > th,\n",
       ".dataframe > tbody > tr > td {\n",
       "  text-align: right;\n",
       "}\n",
       "</style>\n",
       "<small>shape: (23, 5)</small><table border=\"1\" class=\"dataframe\"><thead><tr><th>sepal length (cm)</th><th>sepal width (cm)</th><th>petal length (cm)</th><th>petal width (cm)</th><th>target</th></tr><tr><td>f64</td><td>f64</td><td>f64</td><td>f64</td><td>str</td></tr></thead><tbody><tr><td>5.1</td><td>3.5</td><td>1.4</td><td>0.2</td><td>&quot;Iris-setosa&quot;</td></tr><tr><td>4.9</td><td>3.0</td><td>1.4</td><td>0.2</td><td>&quot;Iris-setosa&quot;</td></tr><tr><td>4.7</td><td>3.2</td><td>1.3</td><td>0.2</td><td>&quot;Iris-setosa&quot;</td></tr><tr><td>5.0</td><td>3.6</td><td>1.4</td><td>0.2</td><td>&quot;Iris-setosa&quot;</td></tr><tr><td>4.6</td><td>3.4</td><td>1.4</td><td>0.3</td><td>&quot;Iris-setosa&quot;</td></tr><tr><td>4.4</td><td>2.9</td><td>1.4</td><td>0.2</td><td>&quot;Iris-setosa&quot;</td></tr><tr><td>4.8</td><td>3.0</td><td>1.4</td><td>0.1</td><td>&quot;Iris-setosa&quot;</td></tr><tr><td>4.3</td><td>3.0</td><td>1.1</td><td>0.1</td><td>&quot;Iris-setosa&quot;</td></tr><tr><td>5.8</td><td>4.0</td><td>1.2</td><td>0.2</td><td>&quot;Iris-setosa&quot;</td></tr><tr><td>5.4</td><td>3.9</td><td>1.3</td><td>0.4</td><td>&quot;Iris-setosa&quot;</td></tr><tr><td>5.1</td><td>3.5</td><td>1.4</td><td>0.3</td><td>&quot;Iris-setosa&quot;</td></tr><tr><td>4.6</td><td>3.6</td><td>1.0</td><td>0.2</td><td>&quot;Iris-setosa&quot;</td></tr><tr><td>5.2</td><td>3.4</td><td>1.4</td><td>0.2</td><td>&quot;Iris-setosa&quot;</td></tr><tr><td>5.5</td><td>4.2</td><td>1.4</td><td>0.2</td><td>&quot;Iris-setosa&quot;</td></tr><tr><td>5.0</td><td>3.2</td><td>1.2</td><td>0.2</td><td>&quot;Iris-setosa&quot;</td></tr><tr><td>5.5</td><td>3.5</td><td>1.3</td><td>0.2</td><td>&quot;Iris-setosa&quot;</td></tr><tr><td>4.4</td><td>3.0</td><td>1.3</td><td>0.2</td><td>&quot;Iris-setosa&quot;</td></tr><tr><td>5.0</td><td>3.5</td><td>1.3</td><td>0.3</td><td>&quot;Iris-setosa&quot;</td></tr><tr><td>4.5</td><td>2.3</td><td>1.3</td><td>0.3</td><td>&quot;Iris-setosa&quot;</td></tr><tr><td>4.4</td><td>3.2</td><td>1.3</td><td>0.2</td><td>&quot;Iris-setosa&quot;</td></tr><tr><td>4.8</td><td>3.0</td><td>1.4</td><td>0.3</td><td>&quot;Iris-setosa&quot;</td></tr><tr><td>4.6</td><td>3.2</td><td>1.4</td><td>0.2</td><td>&quot;Iris-setosa&quot;</td></tr><tr><td>5.0</td><td>3.3</td><td>1.4</td><td>0.2</td><td>&quot;Iris-setosa&quot;</td></tr></tbody></table></div>"
      ],
      "text/plain": [
       "shape: (23, 5)\n",
       "┌───────────────────┬──────────────────┬───────────────────┬──────────────────┬─────────────┐\n",
       "│ sepal length (cm) ┆ sepal width (cm) ┆ petal length (cm) ┆ petal width (cm) ┆ target      │\n",
       "│ ---               ┆ ---              ┆ ---               ┆ ---              ┆ ---         │\n",
       "│ f64               ┆ f64              ┆ f64               ┆ f64              ┆ str         │\n",
       "╞═══════════════════╪══════════════════╪═══════════════════╪══════════════════╪═════════════╡\n",
       "│ 5.1               ┆ 3.5              ┆ 1.4               ┆ 0.2              ┆ Iris-setosa │\n",
       "│ 4.9               ┆ 3.0              ┆ 1.4               ┆ 0.2              ┆ Iris-setosa │\n",
       "│ 4.7               ┆ 3.2              ┆ 1.3               ┆ 0.2              ┆ Iris-setosa │\n",
       "│ 5.0               ┆ 3.6              ┆ 1.4               ┆ 0.2              ┆ Iris-setosa │\n",
       "│ …                 ┆ …                ┆ …                 ┆ …                ┆ …           │\n",
       "│ 4.4               ┆ 3.2              ┆ 1.3               ┆ 0.2              ┆ Iris-setosa │\n",
       "│ 4.8               ┆ 3.0              ┆ 1.4               ┆ 0.3              ┆ Iris-setosa │\n",
       "│ 4.6               ┆ 3.2              ┆ 1.4               ┆ 0.2              ┆ Iris-setosa │\n",
       "│ 5.0               ┆ 3.3              ┆ 1.4               ┆ 0.2              ┆ Iris-setosa │\n",
       "└───────────────────┴──────────────────┴───────────────────┴──────────────────┴─────────────┘"
      ]
     },
     "execution_count": 66,
     "metadata": {},
     "output_type": "execute_result"
    }
   ],
   "source": [
    "df.filter((pl.col('sepal length (cm)') < 6.5) & (pl.col('petal length (cm)') < 1.5))\n",
    "#estamos filtrando las columnas 'sepal length (cm)' y 'petal length (cm)' con desigualdades diferentes respectivamente"
   ]
  },
  {
   "attachments": {},
   "cell_type": "markdown",
   "id": "19f6e80d",
   "metadata": {},
   "source": [
    "## <span style=\"color:green\">LA FUNCIÓN \"null_count\" NOS AYUDA A CONTAR LOS VALORES NULOS O FLOTANTES EN UN DATA FRAME\n",
    "\n",
    "## <span style=\"color:green\">Ejm:"
   ]
  },
  {
   "cell_type": "code",
   "execution_count": 67,
   "id": "9c9fb3cd",
   "metadata": {},
   "outputs": [
    {
     "name": "stdout",
     "output_type": "stream",
     "text": [
      "shape: (1, 5)\n",
      "┌───────────────────┬──────────────────┬───────────────────┬──────────────────┬────────┐\n",
      "│ sepal length (cm) ┆ sepal width (cm) ┆ petal length (cm) ┆ petal width (cm) ┆ target │\n",
      "│ ---               ┆ ---              ┆ ---               ┆ ---              ┆ ---    │\n",
      "│ u32               ┆ u32              ┆ u32               ┆ u32              ┆ u32    │\n",
      "╞═══════════════════╪══════════════════╪═══════════════════╪══════════════════╪════════╡\n",
      "│ 0                 ┆ 0                ┆ 0                 ┆ 0                ┆ 0      │\n",
      "└───────────────────┴──────────────────┴───────────────────┴──────────────────┴────────┘\n"
     ]
    }
   ],
   "source": [
    "prueba=df.null_count()\n",
    "print(prueba)\n",
    "#SE PUEDE OBSERVAR QUE NO SE ENCUENTRA NINGÚN DATO NULO O FLOTANTE"
   ]
  },
  {
   "cell_type": "code",
   "execution_count": 68,
   "id": "063f98f2",
   "metadata": {},
   "outputs": [
    {
     "data": {
      "text/html": [
       "<div><style>\n",
       ".dataframe > thead > tr > th,\n",
       ".dataframe > tbody > tr > td {\n",
       "  text-align: right;\n",
       "}\n",
       "</style>\n",
       "<small>shape: (5, 3)</small><table border=\"1\" class=\"dataframe\"><thead><tr><th>A</th><th>B</th><th>C</th></tr><tr><td>i64</td><td>str</td><td>bool</td></tr></thead><tbody><tr><td>1</td><td>&quot;a&quot;</td><td>true</td></tr><tr><td>2</td><td>&quot;b&quot;</td><td>null</td></tr><tr><td>3</td><td>null</td><td>false</td></tr><tr><td>null</td><td>&quot;d&quot;</td><td>null</td></tr><tr><td>5</td><td>&quot;e&quot;</td><td>true</td></tr></tbody></table></div>"
      ],
      "text/plain": [
       "shape: (5, 3)\n",
       "┌──────┬──────┬───────┐\n",
       "│ A    ┆ B    ┆ C     │\n",
       "│ ---  ┆ ---  ┆ ---   │\n",
       "│ i64  ┆ str  ┆ bool  │\n",
       "╞══════╪══════╪═══════╡\n",
       "│ 1    ┆ a    ┆ true  │\n",
       "│ 2    ┆ b    ┆ null  │\n",
       "│ 3    ┆ null ┆ false │\n",
       "│ null ┆ d    ┆ null  │\n",
       "│ 5    ┆ e    ┆ true  │\n",
       "└──────┴──────┴───────┘"
      ]
     },
     "execution_count": 68,
     "metadata": {},
     "output_type": "execute_result"
    }
   ],
   "source": [
    "# contruiremos un data frame con valores faltantes y veremos con la funcion null count si hay valores perdidos\n",
    "vac = pl.DataFrame({\n",
    "   'A': [1, 2, 3, None, 5],\n",
    "   'B': ['a', 'b', None, 'd', 'e'],\n",
    "   'C': [True, None, False, None, True]\n",
    "})\n",
    "vac\n"
   ]
  },
  {
   "cell_type": "code",
   "execution_count": 69,
   "id": "9cad5a76",
   "metadata": {},
   "outputs": [
    {
     "data": {
      "text/html": [
       "<div><style>\n",
       ".dataframe > thead > tr > th,\n",
       ".dataframe > tbody > tr > td {\n",
       "  text-align: right;\n",
       "}\n",
       "</style>\n",
       "<small>shape: (1, 3)</small><table border=\"1\" class=\"dataframe\"><thead><tr><th>A</th><th>B</th><th>C</th></tr><tr><td>u32</td><td>u32</td><td>u32</td></tr></thead><tbody><tr><td>1</td><td>1</td><td>2</td></tr></tbody></table></div>"
      ],
      "text/plain": [
       "shape: (1, 3)\n",
       "┌─────┬─────┬─────┐\n",
       "│ A   ┆ B   ┆ C   │\n",
       "│ --- ┆ --- ┆ --- │\n",
       "│ u32 ┆ u32 ┆ u32 │\n",
       "╞═════╪═════╪═════╡\n",
       "│ 1   ┆ 1   ┆ 2   │\n",
       "└─────┴─────┴─────┘"
      ]
     },
     "execution_count": 69,
     "metadata": {},
     "output_type": "execute_result"
    }
   ],
   "source": [
    "# veremos si existen valores perdidos\n",
    "vac.null_count()\n",
    "# en la columna 1 hay 1 valor peridido\n",
    "# en la columna 2 hay 1 valor perdido\n",
    "# en la columna 3 hay 2 valores perdidos"
   ]
  },
  {
   "attachments": {},
   "cell_type": "markdown",
   "id": "92999e3b",
   "metadata": {},
   "source": [
    "## <span style=\"color:green\">LA FUNCIÓN \"pl.pivot\" SE USA PARA CREAR UNA TABLA DINÁMICA A PARTIR DE UN DATA FRAME\n",
    "\n",
    "## <span style=\"color:green\">Ejm:"
   ]
  },
  {
   "cell_type": "code",
   "execution_count": 70,
   "id": "9bdb58ef",
   "metadata": {},
   "outputs": [
    {
     "data": {
      "text/html": [
       "<div><style>\n",
       ".dataframe > thead > tr > th,\n",
       ".dataframe > tbody > tr > td {\n",
       "  text-align: right;\n",
       "}\n",
       "</style>\n",
       "<small>shape: (5, 12)</small><table border=\"1\" class=\"dataframe\"><thead><tr><th>edad</th><th>sexo</th><th>nrodepen</th><th>fonopart</th><th>fonolab</th><th>autovaluo</th><th>esaval</th><th>tieneaval</th><th>antiguedad</th><th>tiporenta</th><th>dpto</th><th>morosidad</th></tr><tr><td>i64</td><td>str</td><td>i64</td><td>str</td><td>str</td><td>str</td><td>str</td><td>str</td><td>i64</td><td>str</td><td>str</td><td>str</td></tr></thead><tbody><tr><td>44</td><td>&quot;F&quot;</td><td>3</td><td>&quot;Si&quot;</td><td>&quot;Si&quot;</td><td>&quot;No&quot;</td><td>&quot;No&quot;</td><td>&quot;No&quot;</td><td>63</td><td>&quot;Fijo&quot;</td><td>&quot;Lima&quot;</td><td>&quot;No Moroso&quot;</td></tr><tr><td>77</td><td>&quot;F&quot;</td><td>4</td><td>&quot;Si&quot;</td><td>&quot;Si&quot;</td><td>&quot;No&quot;</td><td>&quot;No&quot;</td><td>&quot;Si&quot;</td><td>62</td><td>&quot;Fijo&quot;</td><td>&quot;Lima&quot;</td><td>&quot;Moroso&quot;</td></tr><tr><td>59</td><td>&quot;F&quot;</td><td>5</td><td>&quot;No&quot;</td><td>&quot;No&quot;</td><td>&quot;No&quot;</td><td>&quot;Si&quot;</td><td>&quot;No&quot;</td><td>59</td><td>&quot;Fijo&quot;</td><td>&quot;Lima&quot;</td><td>&quot;Moroso&quot;</td></tr><tr><td>35</td><td>&quot;F&quot;</td><td>5</td><td>&quot;No&quot;</td><td>&quot;Si&quot;</td><td>&quot;No&quot;</td><td>&quot;No&quot;</td><td>&quot;No&quot;</td><td>58</td><td>&quot;Fijo&quot;</td><td>&quot;Lima&quot;</td><td>&quot;Moroso&quot;</td></tr><tr><td>65</td><td>&quot;F&quot;</td><td>0</td><td>&quot;Si&quot;</td><td>&quot;No&quot;</td><td>&quot;No&quot;</td><td>&quot;Si&quot;</td><td>&quot;No&quot;</td><td>56</td><td>&quot;Fijo&quot;</td><td>&quot;Lima&quot;</td><td>&quot;No Moroso&quot;</td></tr></tbody></table></div>"
      ],
      "text/plain": [
       "shape: (5, 12)\n",
       "┌──────┬──────┬──────────┬──────────┬───┬────────────┬───────────┬──────┬───────────┐\n",
       "│ edad ┆ sexo ┆ nrodepen ┆ fonopart ┆ … ┆ antiguedad ┆ tiporenta ┆ dpto ┆ morosidad │\n",
       "│ ---  ┆ ---  ┆ ---      ┆ ---      ┆   ┆ ---        ┆ ---       ┆ ---  ┆ ---       │\n",
       "│ i64  ┆ str  ┆ i64      ┆ str      ┆   ┆ i64        ┆ str       ┆ str  ┆ str       │\n",
       "╞══════╪══════╪══════════╪══════════╪═══╪════════════╪═══════════╪══════╪═══════════╡\n",
       "│ 44   ┆ F    ┆ 3        ┆ Si       ┆ … ┆ 63         ┆ Fijo      ┆ Lima ┆ No Moroso │\n",
       "│ 77   ┆ F    ┆ 4        ┆ Si       ┆ … ┆ 62         ┆ Fijo      ┆ Lima ┆ Moroso    │\n",
       "│ 59   ┆ F    ┆ 5        ┆ No       ┆ … ┆ 59         ┆ Fijo      ┆ Lima ┆ Moroso    │\n",
       "│ 35   ┆ F    ┆ 5        ┆ No       ┆ … ┆ 58         ┆ Fijo      ┆ Lima ┆ Moroso    │\n",
       "│ 65   ┆ F    ┆ 0        ┆ Si       ┆ … ┆ 56         ┆ Fijo      ┆ Lima ┆ No Moroso │\n",
       "└──────┴──────┴──────────┴──────────┴───┴────────────┴───────────┴──────┴───────────┘"
      ]
     },
     "execution_count": 70,
     "metadata": {},
     "output_type": "execute_result"
    }
   ],
   "source": [
    "data=pl.read_csv(\"morosidad.csv\",separator=\",\") # usamos otro dataset para esta funcion\n",
    "data.head()"
   ]
  },
  {
   "cell_type": "code",
   "execution_count": 71,
   "id": "0a06e66c",
   "metadata": {},
   "outputs": [
    {
     "name": "stdout",
     "output_type": "stream",
     "text": [
      "shape: (2, 7)\n",
      "┌───────────┬──────┬──────────┬──────────┬───────┬─────┬───────┐\n",
      "│ morosidad ┆ Lima ┆ Trujillo ┆ Arequipa ┆ Cusco ┆ Ica ┆ Piura │\n",
      "│ ---       ┆ ---  ┆ ---      ┆ ---      ┆ ---   ┆ --- ┆ ---   │\n",
      "│ str       ┆ i64  ┆ i64      ┆ i64      ┆ i64   ┆ i64 ┆ i64   │\n",
      "╞═══════════╪══════╪══════════╪══════════╪═══════╪═════╪═══════╡\n",
      "│ No Moroso ┆ 63   ┆ 15       ┆ 13       ┆ 3     ┆ 3   ┆ 2     │\n",
      "│ Moroso    ┆ 62   ┆ 14       ┆ 13       ┆ 3     ┆ 3   ┆ 2     │\n",
      "└───────────┴──────┴──────────┴──────────┴───────┴─────┴───────┘\n"
     ]
    },
    {
     "name": "stderr",
     "output_type": "stream",
     "text": [
      "C:\\Users\\b7218\\AppData\\Local\\Temp\\ipykernel_51524\\93827976.py:1: DeprecationWarning: In a future version of polars, the default `aggregate_function` will change from `'first'` to `None`. Please pass `'first'` to keep the current behaviour, or `None` to accept the new one.\n",
      "  tabla= data.pivot(values=\"antiguedad\", index=\"morosidad\", columns=\"dpto\") # por defecto hace un conteo\n"
     ]
    }
   ],
   "source": [
    "tabla= data.pivot(values=\"antiguedad\", index=\"morosidad\", columns=\"dpto\") # por defecto hace un conteo\n",
    "print(tabla) \n",
    "#ESTAMOS CREANDO UN DATA FRAME, sirve de manera similar a hacer un group by, en este ejemplo, tomamos como pivot a la columna \"morosidad\" "
   ]
  },
  {
   "attachments": {},
   "cell_type": "markdown",
   "id": "e3f2d69d",
   "metadata": {},
   "source": [
    "## <span style=\"color:green\"> FUNCIÓN \"df.transpose()\" TRANSPONES LAS FILAS Y COLUMNAS DEL DATA FRAME\n",
    "\n",
    "## <span style=\"color:green\"> Ejm:"
   ]
  },
  {
   "cell_type": "code",
   "execution_count": 72,
   "id": "747f1306",
   "metadata": {},
   "outputs": [
    {
     "name": "stdout",
     "output_type": "stream",
     "text": [
      "shape: (5, 151)\n",
      "┌────────┬─────────────┬─────────────┬─────────────┬───┬──────────┬──────────┬──────────┬──────────┐\n",
      "│ column ┆ column_0    ┆ column_1    ┆ column_2    ┆ … ┆ column_1 ┆ column_1 ┆ column_1 ┆ column_1 │\n",
      "│ ---    ┆ ---         ┆ ---         ┆ ---         ┆   ┆ 46       ┆ 47       ┆ 48       ┆ 49       │\n",
      "│ str    ┆ str         ┆ str         ┆ str         ┆   ┆ ---      ┆ ---      ┆ ---      ┆ ---      │\n",
      "│        ┆             ┆             ┆             ┆   ┆ str      ┆ str      ┆ str      ┆ str      │\n",
      "╞════════╪═════════════╪═════════════╪═════════════╪═══╪══════════╪══════════╪══════════╪══════════╡\n",
      "│ sepal  ┆ 5.1         ┆ 4.9         ┆ 4.7         ┆ … ┆ 6.3      ┆ 6.5      ┆ 6.2      ┆ 5.9      │\n",
      "│ length ┆             ┆             ┆             ┆   ┆          ┆          ┆          ┆          │\n",
      "│ (cm)   ┆             ┆             ┆             ┆   ┆          ┆          ┆          ┆          │\n",
      "│ sepal  ┆ 3.5         ┆ 3.0         ┆ 3.2         ┆ … ┆ 2.5      ┆ 3.0      ┆ 3.4      ┆ 3.0      │\n",
      "│ width  ┆             ┆             ┆             ┆   ┆          ┆          ┆          ┆          │\n",
      "│ (cm)   ┆             ┆             ┆             ┆   ┆          ┆          ┆          ┆          │\n",
      "│ petal  ┆ 1.4         ┆ 1.4         ┆ 1.3         ┆ … ┆ 5.0      ┆ 5.2      ┆ 5.4      ┆ 5.1      │\n",
      "│ length ┆             ┆             ┆             ┆   ┆          ┆          ┆          ┆          │\n",
      "│ (cm)   ┆             ┆             ┆             ┆   ┆          ┆          ┆          ┆          │\n",
      "│ petal  ┆ 0.2         ┆ 0.2         ┆ 0.2         ┆ … ┆ 1.9      ┆ 2.0      ┆ 2.3      ┆ 1.8      │\n",
      "│ width  ┆             ┆             ┆             ┆   ┆          ┆          ┆          ┆          │\n",
      "│ (cm)   ┆             ┆             ┆             ┆   ┆          ┆          ┆          ┆          │\n",
      "│ target ┆ Iris-setosa ┆ Iris-setosa ┆ Iris-setosa ┆ … ┆ Iris-vir ┆ Iris-vir ┆ Iris-vir ┆ Iris-vir │\n",
      "│        ┆             ┆             ┆             ┆   ┆ ginica   ┆ ginica   ┆ ginica   ┆ ginica   │\n",
      "└────────┴─────────────┴─────────────┴─────────────┴───┴──────────┴──────────┴──────────┴──────────┘\n"
     ]
    }
   ],
   "source": [
    "transpuesta= df.transpose(include_header=True)\n",
    "print(transpuesta)"
   ]
  },
  {
   "cell_type": "code",
   "execution_count": 73,
   "id": "7c7281e8",
   "metadata": {},
   "outputs": [
    {
     "name": "stdout",
     "output_type": "stream",
     "text": [
      "shape: (5, 151)\n",
      "┌────────────┬────────────┬────────────┬───────────┬───┬──────────┬──────────┬──────────┬──────────┐\n",
      "│ NOMBRES    ┆ column_0   ┆ column_1   ┆ column_2  ┆ … ┆ column_1 ┆ column_1 ┆ column_1 ┆ column_1 │\n",
      "│ ---        ┆ ---        ┆ ---        ┆ ---       ┆   ┆ 46       ┆ 47       ┆ 48       ┆ 49       │\n",
      "│ str        ┆ str        ┆ str        ┆ str       ┆   ┆ ---      ┆ ---      ┆ ---      ┆ ---      │\n",
      "│            ┆            ┆            ┆           ┆   ┆ str      ┆ str      ┆ str      ┆ str      │\n",
      "╞════════════╪════════════╪════════════╪═══════════╪═══╪══════════╪══════════╪══════════╪══════════╡\n",
      "│ sepal      ┆ 5.1        ┆ 4.9        ┆ 4.7       ┆ … ┆ 6.3      ┆ 6.5      ┆ 6.2      ┆ 5.9      │\n",
      "│ length     ┆            ┆            ┆           ┆   ┆          ┆          ┆          ┆          │\n",
      "│ (cm)       ┆            ┆            ┆           ┆   ┆          ┆          ┆          ┆          │\n",
      "│ sepal      ┆ 3.5        ┆ 3.0        ┆ 3.2       ┆ … ┆ 2.5      ┆ 3.0      ┆ 3.4      ┆ 3.0      │\n",
      "│ width (cm) ┆            ┆            ┆           ┆   ┆          ┆          ┆          ┆          │\n",
      "│ petal      ┆ 1.4        ┆ 1.4        ┆ 1.3       ┆ … ┆ 5.0      ┆ 5.2      ┆ 5.4      ┆ 5.1      │\n",
      "│ length     ┆            ┆            ┆           ┆   ┆          ┆          ┆          ┆          │\n",
      "│ (cm)       ┆            ┆            ┆           ┆   ┆          ┆          ┆          ┆          │\n",
      "│ petal      ┆ 0.2        ┆ 0.2        ┆ 0.2       ┆ … ┆ 1.9      ┆ 2.0      ┆ 2.3      ┆ 1.8      │\n",
      "│ width (cm) ┆            ┆            ┆           ┆   ┆          ┆          ┆          ┆          │\n",
      "│ target     ┆ Iris-setos ┆ Iris-setos ┆ Iris-seto ┆ … ┆ Iris-vir ┆ Iris-vir ┆ Iris-vir ┆ Iris-vir │\n",
      "│            ┆ a          ┆ a          ┆ sa        ┆   ┆ ginica   ┆ ginica   ┆ ginica   ┆ ginica   │\n",
      "└────────────┴────────────┴────────────┴───────────┴───┴──────────┴──────────┴──────────┴──────────┘\n"
     ]
    }
   ],
   "source": [
    "transpuesta= df.transpose(include_header=True, header_name=\"NOMBRES\")\n",
    "print(transpuesta)"
   ]
  },
  {
   "attachments": {},
   "cell_type": "markdown",
   "id": "7c40d0a3",
   "metadata": {},
   "source": [
    "## <span style=\"color:green\"> FUNCIÓN \"df.rename()\" CAMBIA EL NOMBRE DE UNA O MÁS COLUMNAS EN UN DATA FRAME\n",
    "\n",
    "## <span style=\"color:green\"> Ejm:"
   ]
  },
  {
   "attachments": {},
   "cell_type": "markdown",
   "id": "60c30bde",
   "metadata": {},
   "source": [
    "### EN EL CASO DE QUE QUIERA CAMBIAR EL NOMBRE DE LA PRIMERA COLUMNA"
   ]
  },
  {
   "cell_type": "code",
   "execution_count": 74,
   "id": "ece1414c",
   "metadata": {},
   "outputs": [
    {
     "data": {
      "text/html": [
       "<div><style>\n",
       ".dataframe > thead > tr > th,\n",
       ".dataframe > tbody > tr > td {\n",
       "  text-align: right;\n",
       "}\n",
       "</style>\n",
       "<small>shape: (5, 5)</small><table border=\"1\" class=\"dataframe\"><thead><tr><th>sepal length (cm)</th><th>sepal width (cm)</th><th>petal length (cm)</th><th>petal width (cm)</th><th>target</th></tr><tr><td>f64</td><td>f64</td><td>f64</td><td>f64</td><td>str</td></tr></thead><tbody><tr><td>5.1</td><td>3.5</td><td>1.4</td><td>0.2</td><td>&quot;Iris-setosa&quot;</td></tr><tr><td>4.9</td><td>3.0</td><td>1.4</td><td>0.2</td><td>&quot;Iris-setosa&quot;</td></tr><tr><td>4.7</td><td>3.2</td><td>1.3</td><td>0.2</td><td>&quot;Iris-setosa&quot;</td></tr><tr><td>4.6</td><td>3.1</td><td>1.5</td><td>0.2</td><td>&quot;Iris-setosa&quot;</td></tr><tr><td>5.0</td><td>3.6</td><td>1.4</td><td>0.2</td><td>&quot;Iris-setosa&quot;</td></tr></tbody></table></div>"
      ],
      "text/plain": [
       "shape: (5, 5)\n",
       "┌───────────────────┬──────────────────┬───────────────────┬──────────────────┬─────────────┐\n",
       "│ sepal length (cm) ┆ sepal width (cm) ┆ petal length (cm) ┆ petal width (cm) ┆ target      │\n",
       "│ ---               ┆ ---              ┆ ---               ┆ ---              ┆ ---         │\n",
       "│ f64               ┆ f64              ┆ f64               ┆ f64              ┆ str         │\n",
       "╞═══════════════════╪══════════════════╪═══════════════════╪══════════════════╪═════════════╡\n",
       "│ 5.1               ┆ 3.5              ┆ 1.4               ┆ 0.2              ┆ Iris-setosa │\n",
       "│ 4.9               ┆ 3.0              ┆ 1.4               ┆ 0.2              ┆ Iris-setosa │\n",
       "│ 4.7               ┆ 3.2              ┆ 1.3               ┆ 0.2              ┆ Iris-setosa │\n",
       "│ 4.6               ┆ 3.1              ┆ 1.5               ┆ 0.2              ┆ Iris-setosa │\n",
       "│ 5.0               ┆ 3.6              ┆ 1.4               ┆ 0.2              ┆ Iris-setosa │\n",
       "└───────────────────┴──────────────────┴───────────────────┴──────────────────┴─────────────┘"
      ]
     },
     "execution_count": 74,
     "metadata": {},
     "output_type": "execute_result"
    }
   ],
   "source": [
    "df.head()\n",
    "#EL DATA FRAME ORIGINAL"
   ]
  },
  {
   "cell_type": "code",
   "execution_count": 75,
   "id": "2b64e958",
   "metadata": {},
   "outputs": [
    {
     "data": {
      "text/html": [
       "<div><style>\n",
       ".dataframe > thead > tr > th,\n",
       ".dataframe > tbody > tr > td {\n",
       "  text-align: right;\n",
       "}\n",
       "</style>\n",
       "<small>shape: (5, 5)</small><table border=\"1\" class=\"dataframe\"><thead><tr><th>longitud del sépalo (cm)</th><th>sepal width (cm)</th><th>petal length (cm)</th><th>petal width (cm)</th><th>target</th></tr><tr><td>f64</td><td>f64</td><td>f64</td><td>f64</td><td>str</td></tr></thead><tbody><tr><td>5.1</td><td>3.5</td><td>1.4</td><td>0.2</td><td>&quot;Iris-setosa&quot;</td></tr><tr><td>4.9</td><td>3.0</td><td>1.4</td><td>0.2</td><td>&quot;Iris-setosa&quot;</td></tr><tr><td>4.7</td><td>3.2</td><td>1.3</td><td>0.2</td><td>&quot;Iris-setosa&quot;</td></tr><tr><td>4.6</td><td>3.1</td><td>1.5</td><td>0.2</td><td>&quot;Iris-setosa&quot;</td></tr><tr><td>5.0</td><td>3.6</td><td>1.4</td><td>0.2</td><td>&quot;Iris-setosa&quot;</td></tr></tbody></table></div>"
      ],
      "text/plain": [
       "shape: (5, 5)\n",
       "┌──────────────────────────┬──────────────────┬───────────────────┬──────────────────┬─────────────┐\n",
       "│ longitud del sépalo (cm) ┆ sepal width (cm) ┆ petal length (cm) ┆ petal width (cm) ┆ target      │\n",
       "│ ---                      ┆ ---              ┆ ---               ┆ ---              ┆ ---         │\n",
       "│ f64                      ┆ f64              ┆ f64               ┆ f64              ┆ str         │\n",
       "╞══════════════════════════╪══════════════════╪═══════════════════╪══════════════════╪═════════════╡\n",
       "│ 5.1                      ┆ 3.5              ┆ 1.4               ┆ 0.2              ┆ Iris-setosa │\n",
       "│ 4.9                      ┆ 3.0              ┆ 1.4               ┆ 0.2              ┆ Iris-setosa │\n",
       "│ 4.7                      ┆ 3.2              ┆ 1.3               ┆ 0.2              ┆ Iris-setosa │\n",
       "│ 4.6                      ┆ 3.1              ┆ 1.5               ┆ 0.2              ┆ Iris-setosa │\n",
       "│ 5.0                      ┆ 3.6              ┆ 1.4               ┆ 0.2              ┆ Iris-setosa │\n",
       "└──────────────────────────┴──────────────────┴───────────────────┴──────────────────┴─────────────┘"
      ]
     },
     "execution_count": 75,
     "metadata": {},
     "output_type": "execute_result"
    }
   ],
   "source": [
    "nuevo= df.rename({\"sepal length (cm)\":\"longitud del sépalo (cm)\"})\n",
    "#ESTAMOS CAMBIANDO EL NOMBRE DE LA COLUMNA \"sepal length (cm)\" POR \"longitud del sépalo (cm)\"\n",
    "nuevo.head()"
   ]
  }
 ],
 "metadata": {
  "kernelspec": {
   "display_name": "Python 3 (ipykernel)",
   "language": "python",
   "name": "python3"
  },
  "language_info": {
   "codemirror_mode": {
    "name": "ipython",
    "version": 3
   },
   "file_extension": ".py",
   "mimetype": "text/x-python",
   "name": "python",
   "nbconvert_exporter": "python",
   "pygments_lexer": "ipython3",
   "version": "3.11.3"
  }
 },
 "nbformat": 4,
 "nbformat_minor": 5
}
