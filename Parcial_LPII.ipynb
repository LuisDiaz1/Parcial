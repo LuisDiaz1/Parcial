{
 "cells": [
  {
   "cell_type": "markdown",
   "id": "14a2fd96",
   "metadata": {},
   "source": [
    " # <span style=\"color:red\"> TUTORIAL DEL PAQUETE POLAR\n",
    "    "
   ]
  },
  {
   "cell_type": "code",
   "execution_count": 134,
   "id": "50ca49ad",
   "metadata": {},
   "outputs": [],
   "source": [
    "import polars as pl\n",
    "import numpy as np\n"
   ]
  },
  {
   "cell_type": "code",
   "execution_count": 136,
   "id": "c723130c",
   "metadata": {},
   "outputs": [],
   "source": [
    "df = pl.read_csv(\"iris_dataset.csv\")"
   ]
  },
  {
   "cell_type": "markdown",
   "id": "90c4a37b",
   "metadata": {},
   "source": [
    "## <span style=\"color:green\">LA FUNCIÓN \"frac\" NOS PERMITE IMPRIMIR UN PORCENTAGE DEL ARCHIVO CON LAS FILAS ALEATORIAS\n",
    "## <span style=\"color:green\"> Ejm:\n"
   ]
  },
  {
   "cell_type": "code",
   "execution_count": 150,
   "id": "2f1d7190",
   "metadata": {},
   "outputs": [
    {
     "data": {
      "text/html": [
       "<div><style>\n",
       ".dataframe > thead > tr > th,\n",
       ".dataframe > tbody > tr > td {\n",
       "  text-align: right;\n",
       "}\n",
       "</style>\n",
       "<small>shape: (15, 5)</small><table border=\"1\" class=\"dataframe\"><thead><tr><th>sepal length (cm)</th><th>sepal width (cm)</th><th>petal length (cm)</th><th>petal width (cm)</th><th>target</th></tr><tr><td>f64</td><td>f64</td><td>f64</td><td>f64</td><td>str</td></tr></thead><tbody><tr><td>6.1</td><td>2.9</td><td>4.7</td><td>1.4</td><td>&quot;Iris-versicolo…</td></tr><tr><td>5.7</td><td>2.8</td><td>4.1</td><td>1.3</td><td>&quot;Iris-versicolo…</td></tr><tr><td>5.1</td><td>3.8</td><td>1.9</td><td>0.4</td><td>&quot;Iris-setosa&quot;</td></tr><tr><td>4.7</td><td>3.2</td><td>1.6</td><td>0.2</td><td>&quot;Iris-setosa&quot;</td></tr><tr><td>5.1</td><td>3.8</td><td>1.5</td><td>0.3</td><td>&quot;Iris-setosa&quot;</td></tr><tr><td>5.9</td><td>3.0</td><td>5.1</td><td>1.8</td><td>&quot;Iris-virginica…</td></tr><tr><td>6.8</td><td>3.2</td><td>5.9</td><td>2.3</td><td>&quot;Iris-virginica…</td></tr><tr><td>6.1</td><td>3.0</td><td>4.6</td><td>1.4</td><td>&quot;Iris-versicolo…</td></tr><tr><td>6.4</td><td>2.7</td><td>5.3</td><td>1.9</td><td>&quot;Iris-virginica…</td></tr><tr><td>6.0</td><td>2.9</td><td>4.5</td><td>1.5</td><td>&quot;Iris-versicolo…</td></tr><tr><td>5.5</td><td>3.5</td><td>1.3</td><td>0.2</td><td>&quot;Iris-setosa&quot;</td></tr><tr><td>5.8</td><td>2.7</td><td>5.1</td><td>1.9</td><td>&quot;Iris-virginica…</td></tr><tr><td>6.3</td><td>2.7</td><td>4.9</td><td>1.8</td><td>&quot;Iris-virginica…</td></tr><tr><td>5.8</td><td>2.7</td><td>4.1</td><td>1.0</td><td>&quot;Iris-versicolo…</td></tr><tr><td>7.1</td><td>3.0</td><td>5.9</td><td>2.1</td><td>&quot;Iris-virginica…</td></tr></tbody></table></div>"
      ],
      "text/plain": [
       "shape: (15, 5)\n",
       "┌───────────────────┬──────────────────┬───────────────────┬──────────────────┬─────────────────┐\n",
       "│ sepal length (cm) ┆ sepal width (cm) ┆ petal length (cm) ┆ petal width (cm) ┆ target          │\n",
       "│ ---               ┆ ---              ┆ ---               ┆ ---              ┆ ---             │\n",
       "│ f64               ┆ f64              ┆ f64               ┆ f64              ┆ str             │\n",
       "╞═══════════════════╪══════════════════╪═══════════════════╪══════════════════╪═════════════════╡\n",
       "│ 6.1               ┆ 2.9              ┆ 4.7               ┆ 1.4              ┆ Iris-versicolor │\n",
       "│ 5.7               ┆ 2.8              ┆ 4.1               ┆ 1.3              ┆ Iris-versicolor │\n",
       "│ 5.1               ┆ 3.8              ┆ 1.9               ┆ 0.4              ┆ Iris-setosa     │\n",
       "│ 4.7               ┆ 3.2              ┆ 1.6               ┆ 0.2              ┆ Iris-setosa     │\n",
       "│ …                 ┆ …                ┆ …                 ┆ …                ┆ …               │\n",
       "│ 5.8               ┆ 2.7              ┆ 5.1               ┆ 1.9              ┆ Iris-virginica  │\n",
       "│ 6.3               ┆ 2.7              ┆ 4.9               ┆ 1.8              ┆ Iris-virginica  │\n",
       "│ 5.8               ┆ 2.7              ┆ 4.1               ┆ 1.0              ┆ Iris-versicolor │\n",
       "│ 7.1               ┆ 3.0              ┆ 5.9               ┆ 2.1              ┆ Iris-virginica  │\n",
       "└───────────────────┴──────────────────┴───────────────────┴──────────────────┴─────────────────┘"
      ]
     },
     "execution_count": 150,
     "metadata": {},
     "output_type": "execute_result"
    }
   ],
   "source": [
    "df.sample(fraction=0.1) #estoy pidiendo que me imprima el 10% del documento con las filas aleatorias por la función sample"
   ]
  },
  {
   "cell_type": "markdown",
   "id": "babd7cc1",
   "metadata": {},
   "source": [
    "## <span style=\"color:green\">LA FUNCIÓN \"pl.exlcude()\" excluye una columna\n",
    "    \n",
    "## <span style=\"color:green\"> Ejm:"
   ]
  },
  {
   "cell_type": "markdown",
   "id": "97183336",
   "metadata": {},
   "source": [
    "### En el caso que yo quiera eliminar la columna 'sepal length' "
   ]
  },
  {
   "cell_type": "code",
   "execution_count": 167,
   "id": "14049ab7",
   "metadata": {},
   "outputs": [
    {
     "data": {
      "text/html": [
       "<div><style>\n",
       ".dataframe > thead > tr > th,\n",
       ".dataframe > tbody > tr > td {\n",
       "  text-align: right;\n",
       "}\n",
       "</style>\n",
       "<small>shape: (5, 5)</small><table border=\"1\" class=\"dataframe\"><thead><tr><th>sepal length (cm)</th><th>sepal width (cm)</th><th>petal length (cm)</th><th>petal width (cm)</th><th>target</th></tr><tr><td>f64</td><td>f64</td><td>f64</td><td>f64</td><td>str</td></tr></thead><tbody><tr><td>5.1</td><td>3.5</td><td>1.4</td><td>0.2</td><td>&quot;Iris-setosa&quot;</td></tr><tr><td>4.9</td><td>3.0</td><td>1.4</td><td>0.2</td><td>&quot;Iris-setosa&quot;</td></tr><tr><td>4.7</td><td>3.2</td><td>1.3</td><td>0.2</td><td>&quot;Iris-setosa&quot;</td></tr><tr><td>4.6</td><td>3.1</td><td>1.5</td><td>0.2</td><td>&quot;Iris-setosa&quot;</td></tr><tr><td>5.0</td><td>3.6</td><td>1.4</td><td>0.2</td><td>&quot;Iris-setosa&quot;</td></tr></tbody></table></div>"
      ],
      "text/plain": [
       "shape: (5, 5)\n",
       "┌───────────────────┬──────────────────┬───────────────────┬──────────────────┬─────────────┐\n",
       "│ sepal length (cm) ┆ sepal width (cm) ┆ petal length (cm) ┆ petal width (cm) ┆ target      │\n",
       "│ ---               ┆ ---              ┆ ---               ┆ ---              ┆ ---         │\n",
       "│ f64               ┆ f64              ┆ f64               ┆ f64              ┆ str         │\n",
       "╞═══════════════════╪══════════════════╪═══════════════════╪══════════════════╪═════════════╡\n",
       "│ 5.1               ┆ 3.5              ┆ 1.4               ┆ 0.2              ┆ Iris-setosa │\n",
       "│ 4.9               ┆ 3.0              ┆ 1.4               ┆ 0.2              ┆ Iris-setosa │\n",
       "│ 4.7               ┆ 3.2              ┆ 1.3               ┆ 0.2              ┆ Iris-setosa │\n",
       "│ 4.6               ┆ 3.1              ┆ 1.5               ┆ 0.2              ┆ Iris-setosa │\n",
       "│ 5.0               ┆ 3.6              ┆ 1.4               ┆ 0.2              ┆ Iris-setosa │\n",
       "└───────────────────┴──────────────────┴───────────────────┴──────────────────┴─────────────┘"
      ]
     },
     "execution_count": 167,
     "metadata": {},
     "output_type": "execute_result"
    }
   ],
   "source": [
    "df.select([pl.exclude('sepal length')]).head()\n",
    "#seleccionamos e excluimos la columna'sepal length'"
   ]
  },
  {
   "cell_type": "markdown",
   "id": "0454e909",
   "metadata": {},
   "source": [
    "## <span style=\"color:green\"> LA FUNCIÓN \"df.filter()\" FILTRA LOS VALORES DEL ARCHIVO, AYUDANDO MANIPULAR UN COJUNTO DE DATOS MÁS EXTENSO\n",
    "\n",
    "## <span style=\"color:green\">Ejm:"
   ]
  },
  {
   "cell_type": "markdown",
   "id": "48d68535",
   "metadata": {},
   "source": [
    "### Supongamos que quiero filtrar, solo las plantas con \"sepal length\" menores a 6.5 y tambien los que tienen los \"petal length\" menores a 1.5 "
   ]
  },
  {
   "cell_type": "code",
   "execution_count": 178,
   "id": "d48d68db",
   "metadata": {},
   "outputs": [
    {
     "data": {
      "text/html": [
       "<div><style>\n",
       ".dataframe > thead > tr > th,\n",
       ".dataframe > tbody > tr > td {\n",
       "  text-align: right;\n",
       "}\n",
       "</style>\n",
       "<small>shape: (23, 5)</small><table border=\"1\" class=\"dataframe\"><thead><tr><th>sepal length (cm)</th><th>sepal width (cm)</th><th>petal length (cm)</th><th>petal width (cm)</th><th>target</th></tr><tr><td>f64</td><td>f64</td><td>f64</td><td>f64</td><td>str</td></tr></thead><tbody><tr><td>5.1</td><td>3.5</td><td>1.4</td><td>0.2</td><td>&quot;Iris-setosa&quot;</td></tr><tr><td>4.9</td><td>3.0</td><td>1.4</td><td>0.2</td><td>&quot;Iris-setosa&quot;</td></tr><tr><td>4.7</td><td>3.2</td><td>1.3</td><td>0.2</td><td>&quot;Iris-setosa&quot;</td></tr><tr><td>5.0</td><td>3.6</td><td>1.4</td><td>0.2</td><td>&quot;Iris-setosa&quot;</td></tr><tr><td>4.6</td><td>3.4</td><td>1.4</td><td>0.3</td><td>&quot;Iris-setosa&quot;</td></tr><tr><td>4.4</td><td>2.9</td><td>1.4</td><td>0.2</td><td>&quot;Iris-setosa&quot;</td></tr><tr><td>4.8</td><td>3.0</td><td>1.4</td><td>0.1</td><td>&quot;Iris-setosa&quot;</td></tr><tr><td>4.3</td><td>3.0</td><td>1.1</td><td>0.1</td><td>&quot;Iris-setosa&quot;</td></tr><tr><td>5.8</td><td>4.0</td><td>1.2</td><td>0.2</td><td>&quot;Iris-setosa&quot;</td></tr><tr><td>5.4</td><td>3.9</td><td>1.3</td><td>0.4</td><td>&quot;Iris-setosa&quot;</td></tr><tr><td>5.1</td><td>3.5</td><td>1.4</td><td>0.3</td><td>&quot;Iris-setosa&quot;</td></tr><tr><td>4.6</td><td>3.6</td><td>1.0</td><td>0.2</td><td>&quot;Iris-setosa&quot;</td></tr><tr><td>5.2</td><td>3.4</td><td>1.4</td><td>0.2</td><td>&quot;Iris-setosa&quot;</td></tr><tr><td>5.5</td><td>4.2</td><td>1.4</td><td>0.2</td><td>&quot;Iris-setosa&quot;</td></tr><tr><td>5.0</td><td>3.2</td><td>1.2</td><td>0.2</td><td>&quot;Iris-setosa&quot;</td></tr><tr><td>5.5</td><td>3.5</td><td>1.3</td><td>0.2</td><td>&quot;Iris-setosa&quot;</td></tr><tr><td>4.4</td><td>3.0</td><td>1.3</td><td>0.2</td><td>&quot;Iris-setosa&quot;</td></tr><tr><td>5.0</td><td>3.5</td><td>1.3</td><td>0.3</td><td>&quot;Iris-setosa&quot;</td></tr><tr><td>4.5</td><td>2.3</td><td>1.3</td><td>0.3</td><td>&quot;Iris-setosa&quot;</td></tr><tr><td>4.4</td><td>3.2</td><td>1.3</td><td>0.2</td><td>&quot;Iris-setosa&quot;</td></tr><tr><td>4.8</td><td>3.0</td><td>1.4</td><td>0.3</td><td>&quot;Iris-setosa&quot;</td></tr><tr><td>4.6</td><td>3.2</td><td>1.4</td><td>0.2</td><td>&quot;Iris-setosa&quot;</td></tr><tr><td>5.0</td><td>3.3</td><td>1.4</td><td>0.2</td><td>&quot;Iris-setosa&quot;</td></tr></tbody></table></div>"
      ],
      "text/plain": [
       "shape: (23, 5)\n",
       "┌───────────────────┬──────────────────┬───────────────────┬──────────────────┬─────────────┐\n",
       "│ sepal length (cm) ┆ sepal width (cm) ┆ petal length (cm) ┆ petal width (cm) ┆ target      │\n",
       "│ ---               ┆ ---              ┆ ---               ┆ ---              ┆ ---         │\n",
       "│ f64               ┆ f64              ┆ f64               ┆ f64              ┆ str         │\n",
       "╞═══════════════════╪══════════════════╪═══════════════════╪══════════════════╪═════════════╡\n",
       "│ 5.1               ┆ 3.5              ┆ 1.4               ┆ 0.2              ┆ Iris-setosa │\n",
       "│ 4.9               ┆ 3.0              ┆ 1.4               ┆ 0.2              ┆ Iris-setosa │\n",
       "│ 4.7               ┆ 3.2              ┆ 1.3               ┆ 0.2              ┆ Iris-setosa │\n",
       "│ 5.0               ┆ 3.6              ┆ 1.4               ┆ 0.2              ┆ Iris-setosa │\n",
       "│ …                 ┆ …                ┆ …                 ┆ …                ┆ …           │\n",
       "│ 4.4               ┆ 3.2              ┆ 1.3               ┆ 0.2              ┆ Iris-setosa │\n",
       "│ 4.8               ┆ 3.0              ┆ 1.4               ┆ 0.3              ┆ Iris-setosa │\n",
       "│ 4.6               ┆ 3.2              ┆ 1.4               ┆ 0.2              ┆ Iris-setosa │\n",
       "│ 5.0               ┆ 3.3              ┆ 1.4               ┆ 0.2              ┆ Iris-setosa │\n",
       "└───────────────────┴──────────────────┴───────────────────┴──────────────────┴─────────────┘"
      ]
     },
     "execution_count": 178,
     "metadata": {},
     "output_type": "execute_result"
    }
   ],
   "source": [
    "df.filter((pl.col('sepal length (cm)') < 6.5) & (pl.col('petal length (cm)') < 1.5))\n",
    "#estamos filtrando las columnas 'sepal length (cm)' y 'petal length (cm)' con desigualdades diferentes respectivamente"
   ]
  },
  {
   "cell_type": "markdown",
   "id": "19f6e80d",
   "metadata": {},
   "source": [
    "## <span style=\"color:green\">LA FUNCIÓN \"null_count\" NOS AYUDA A CONTAR LOS VALORES NULOS O FLOTANTES EN UN DATA FRAME\n",
    "\n",
    "## <span style=\"color:green\">Ejm:"
   ]
  },
  {
   "cell_type": "code",
   "execution_count": 182,
   "id": "9c9fb3cd",
   "metadata": {},
   "outputs": [
    {
     "name": "stdout",
     "output_type": "stream",
     "text": [
      "shape: (1, 5)\n",
      "┌───────────────────┬──────────────────┬───────────────────┬──────────────────┬────────┐\n",
      "│ sepal length (cm) ┆ sepal width (cm) ┆ petal length (cm) ┆ petal width (cm) ┆ target │\n",
      "│ ---               ┆ ---              ┆ ---               ┆ ---              ┆ ---    │\n",
      "│ u32               ┆ u32              ┆ u32               ┆ u32              ┆ u32    │\n",
      "╞═══════════════════╪══════════════════╪═══════════════════╪══════════════════╪════════╡\n",
      "│ 0                 ┆ 0                ┆ 0                 ┆ 0                ┆ 0      │\n",
      "└───────────────────┴──────────────────┴───────────────────┴──────────────────┴────────┘\n"
     ]
    }
   ],
   "source": [
    "NULL=df.null_count()\n",
    "print(NULL)\n",
    "#SE PUEDE OBSERVAR QUE NO SE ENCUENTRA NINGÚN DATO NULO O FLOTANTE"
   ]
  },
  {
   "cell_type": "markdown",
   "id": "92999e3b",
   "metadata": {},
   "source": [
    "## <span style=\"color:green\">LA FUNCIÓN \"pl.pivot\" SE USA PARA CREAR UNA TABLA DINÁMICA A PARTIR DE UN DATA FRAME\n",
    "\n",
    "## <span style=\"color:green\">Ejm:"
   ]
  },
  {
   "cell_type": "code",
   "execution_count": 181,
   "id": "0a06e66c",
   "metadata": {},
   "outputs": [
    {
     "name": "stdout",
     "output_type": "stream",
     "text": [
      "shape: (3, 44)\n",
      "┌─────────────────┬──────┬──────┬──────┬───┬──────┬──────┬──────┬──────┐\n",
      "│ target          ┆ 1.4  ┆ 1.3  ┆ 1.5  ┆ … ┆ 5.7  ┆ 6.4  ┆ 5.4  ┆ 5.2  │\n",
      "│ ---             ┆ ---  ┆ ---  ┆ ---  ┆   ┆ ---  ┆ ---  ┆ ---  ┆ ---  │\n",
      "│ str             ┆ f64  ┆ f64  ┆ f64  ┆   ┆ f64  ┆ f64  ┆ f64  ┆ f64  │\n",
      "╞═════════════════╪══════╪══════╪══════╪═══╪══════╪══════╪══════╪══════╡\n",
      "│ Iris-setosa     ┆ 5.1  ┆ 4.7  ┆ 4.6  ┆ … ┆ null ┆ null ┆ null ┆ null │\n",
      "│ Iris-versicolor ┆ null ┆ null ┆ null ┆ … ┆ null ┆ null ┆ null ┆ null │\n",
      "│ Iris-virginica  ┆ null ┆ null ┆ null ┆ … ┆ 6.9  ┆ 7.9  ┆ 6.9  ┆ 6.7  │\n",
      "└─────────────────┴──────┴──────┴──────┴───┴──────┴──────┴──────┴──────┘\n"
     ]
    },
    {
     "name": "stderr",
     "output_type": "stream",
     "text": [
      "C:\\Users\\51946\\AppData\\Local\\Temp\\ipykernel_15652\\4073204071.py:1: DeprecationWarning: In a future version of polars, the default `aggregate_function` will change from `'first'` to `None`. Please pass `'first'` to keep the current behaviour, or `None` to accept the new one.\n",
      "  tabla= df.pivot(values=\"sepal length (cm)\", index=\"target\", columns=\"petal length (cm)\")\n"
     ]
    }
   ],
   "source": [
    "tabla= df.pivot(values=\"sepal length (cm)\", index=\"target\", columns=\"petal length (cm)\")\n",
    "print(tabla) \n",
    "#ESTAMOS CREANDO UN DATA FRAME "
   ]
  },
  {
   "cell_type": "markdown",
   "id": "e3f2d69d",
   "metadata": {},
   "source": [
    "## <span style=\"color:green\"> FUNCIÓN \"df.transpose()\" TRANSPONES LAS FILAS Y COLUMNAS DEL DATA FRAME\n",
    "\n",
    "## <span style=\"color:green\"> Ejm:"
   ]
  },
  {
   "cell_type": "code",
   "execution_count": 186,
   "id": "747f1306",
   "metadata": {},
   "outputs": [
    {
     "name": "stdout",
     "output_type": "stream",
     "text": [
      "shape: (5, 151)\n",
      "┌────────┬─────────────┬─────────────┬─────────────┬───┬──────────┬──────────┬──────────┬──────────┐\n",
      "│ column ┆ column_0    ┆ column_1    ┆ column_2    ┆ … ┆ column_1 ┆ column_1 ┆ column_1 ┆ column_1 │\n",
      "│ ---    ┆ ---         ┆ ---         ┆ ---         ┆   ┆ 46       ┆ 47       ┆ 48       ┆ 49       │\n",
      "│ str    ┆ str         ┆ str         ┆ str         ┆   ┆ ---      ┆ ---      ┆ ---      ┆ ---      │\n",
      "│        ┆             ┆             ┆             ┆   ┆ str      ┆ str      ┆ str      ┆ str      │\n",
      "╞════════╪═════════════╪═════════════╪═════════════╪═══╪══════════╪══════════╪══════════╪══════════╡\n",
      "│ sepal  ┆ 5.1         ┆ 4.9         ┆ 4.7         ┆ … ┆ 6.3      ┆ 6.5      ┆ 6.2      ┆ 5.9      │\n",
      "│ length ┆             ┆             ┆             ┆   ┆          ┆          ┆          ┆          │\n",
      "│ (cm)   ┆             ┆             ┆             ┆   ┆          ┆          ┆          ┆          │\n",
      "│ sepal  ┆ 3.5         ┆ 3.0         ┆ 3.2         ┆ … ┆ 2.5      ┆ 3.0      ┆ 3.4      ┆ 3.0      │\n",
      "│ width  ┆             ┆             ┆             ┆   ┆          ┆          ┆          ┆          │\n",
      "│ (cm)   ┆             ┆             ┆             ┆   ┆          ┆          ┆          ┆          │\n",
      "│ petal  ┆ 1.4         ┆ 1.4         ┆ 1.3         ┆ … ┆ 5.0      ┆ 5.2      ┆ 5.4      ┆ 5.1      │\n",
      "│ length ┆             ┆             ┆             ┆   ┆          ┆          ┆          ┆          │\n",
      "│ (cm)   ┆             ┆             ┆             ┆   ┆          ┆          ┆          ┆          │\n",
      "│ petal  ┆ 0.2         ┆ 0.2         ┆ 0.2         ┆ … ┆ 1.9      ┆ 2.0      ┆ 2.3      ┆ 1.8      │\n",
      "│ width  ┆             ┆             ┆             ┆   ┆          ┆          ┆          ┆          │\n",
      "│ (cm)   ┆             ┆             ┆             ┆   ┆          ┆          ┆          ┆          │\n",
      "│ target ┆ Iris-setosa ┆ Iris-setosa ┆ Iris-setosa ┆ … ┆ Iris-vir ┆ Iris-vir ┆ Iris-vir ┆ Iris-vir │\n",
      "│        ┆             ┆             ┆             ┆   ┆ ginica   ┆ ginica   ┆ ginica   ┆ ginica   │\n",
      "└────────┴─────────────┴─────────────┴─────────────┴───┴──────────┴──────────┴──────────┴──────────┘\n"
     ]
    }
   ],
   "source": [
    "transpuesta= df.transpose(include_header=True)\n",
    "print(transpuesta)"
   ]
  },
  {
   "cell_type": "code",
   "execution_count": 188,
   "id": "7c7281e8",
   "metadata": {},
   "outputs": [
    {
     "name": "stdout",
     "output_type": "stream",
     "text": [
      "shape: (5, 151)\n",
      "┌────────────┬────────────┬────────────┬───────────┬───┬──────────┬──────────┬──────────┬──────────┐\n",
      "│ NOMBRES    ┆ column_0   ┆ column_1   ┆ column_2  ┆ … ┆ column_1 ┆ column_1 ┆ column_1 ┆ column_1 │\n",
      "│ ---        ┆ ---        ┆ ---        ┆ ---       ┆   ┆ 46       ┆ 47       ┆ 48       ┆ 49       │\n",
      "│ str        ┆ str        ┆ str        ┆ str       ┆   ┆ ---      ┆ ---      ┆ ---      ┆ ---      │\n",
      "│            ┆            ┆            ┆           ┆   ┆ str      ┆ str      ┆ str      ┆ str      │\n",
      "╞════════════╪════════════╪════════════╪═══════════╪═══╪══════════╪══════════╪══════════╪══════════╡\n",
      "│ sepal      ┆ 5.1        ┆ 4.9        ┆ 4.7       ┆ … ┆ 6.3      ┆ 6.5      ┆ 6.2      ┆ 5.9      │\n",
      "│ length     ┆            ┆            ┆           ┆   ┆          ┆          ┆          ┆          │\n",
      "│ (cm)       ┆            ┆            ┆           ┆   ┆          ┆          ┆          ┆          │\n",
      "│ sepal      ┆ 3.5        ┆ 3.0        ┆ 3.2       ┆ … ┆ 2.5      ┆ 3.0      ┆ 3.4      ┆ 3.0      │\n",
      "│ width (cm) ┆            ┆            ┆           ┆   ┆          ┆          ┆          ┆          │\n",
      "│ petal      ┆ 1.4        ┆ 1.4        ┆ 1.3       ┆ … ┆ 5.0      ┆ 5.2      ┆ 5.4      ┆ 5.1      │\n",
      "│ length     ┆            ┆            ┆           ┆   ┆          ┆          ┆          ┆          │\n",
      "│ (cm)       ┆            ┆            ┆           ┆   ┆          ┆          ┆          ┆          │\n",
      "│ petal      ┆ 0.2        ┆ 0.2        ┆ 0.2       ┆ … ┆ 1.9      ┆ 2.0      ┆ 2.3      ┆ 1.8      │\n",
      "│ width (cm) ┆            ┆            ┆           ┆   ┆          ┆          ┆          ┆          │\n",
      "│ target     ┆ Iris-setos ┆ Iris-setos ┆ Iris-seto ┆ … ┆ Iris-vir ┆ Iris-vir ┆ Iris-vir ┆ Iris-vir │\n",
      "│            ┆ a          ┆ a          ┆ sa        ┆   ┆ ginica   ┆ ginica   ┆ ginica   ┆ ginica   │\n",
      "└────────────┴────────────┴────────────┴───────────┴───┴──────────┴──────────┴──────────┴──────────┘\n"
     ]
    }
   ],
   "source": [
    "transpuesta= df.transpose(include_header=True, header_name=\"NOMBRES\")\n",
    "print(transpuesta)"
   ]
  },
  {
   "cell_type": "markdown",
   "id": "7c40d0a3",
   "metadata": {},
   "source": [
    "## <span style=\"color:green\"> FUNCIÓN \"df.rename()\" CAMBIA EL NOMBRE DE UNA O MÁS COLUMNAS EN UN DATA FRAME\n",
    "\n",
    "## <span style=\"color:green\"> Ejm:"
   ]
  },
  {
   "cell_type": "markdown",
   "id": "60c30bde",
   "metadata": {},
   "source": [
    "### EN EL CASO DE QUE QUIERA CAMBIAR EL NOMBRE DE LA PRIMERA COLUMNA"
   ]
  },
  {
   "cell_type": "code",
   "execution_count": 196,
   "id": "ece1414c",
   "metadata": {},
   "outputs": [
    {
     "data": {
      "text/html": [
       "<div><style>\n",
       ".dataframe > thead > tr > th,\n",
       ".dataframe > tbody > tr > td {\n",
       "  text-align: right;\n",
       "}\n",
       "</style>\n",
       "<small>shape: (5, 5)</small><table border=\"1\" class=\"dataframe\"><thead><tr><th>sepal length (cm)</th><th>sepal width (cm)</th><th>petal length (cm)</th><th>petal width (cm)</th><th>target</th></tr><tr><td>f64</td><td>f64</td><td>f64</td><td>f64</td><td>str</td></tr></thead><tbody><tr><td>5.1</td><td>3.5</td><td>1.4</td><td>0.2</td><td>&quot;Iris-setosa&quot;</td></tr><tr><td>4.9</td><td>3.0</td><td>1.4</td><td>0.2</td><td>&quot;Iris-setosa&quot;</td></tr><tr><td>4.7</td><td>3.2</td><td>1.3</td><td>0.2</td><td>&quot;Iris-setosa&quot;</td></tr><tr><td>4.6</td><td>3.1</td><td>1.5</td><td>0.2</td><td>&quot;Iris-setosa&quot;</td></tr><tr><td>5.0</td><td>3.6</td><td>1.4</td><td>0.2</td><td>&quot;Iris-setosa&quot;</td></tr></tbody></table></div>"
      ],
      "text/plain": [
       "shape: (5, 5)\n",
       "┌───────────────────┬──────────────────┬───────────────────┬──────────────────┬─────────────┐\n",
       "│ sepal length (cm) ┆ sepal width (cm) ┆ petal length (cm) ┆ petal width (cm) ┆ target      │\n",
       "│ ---               ┆ ---              ┆ ---               ┆ ---              ┆ ---         │\n",
       "│ f64               ┆ f64              ┆ f64               ┆ f64              ┆ str         │\n",
       "╞═══════════════════╪══════════════════╪═══════════════════╪══════════════════╪═════════════╡\n",
       "│ 5.1               ┆ 3.5              ┆ 1.4               ┆ 0.2              ┆ Iris-setosa │\n",
       "│ 4.9               ┆ 3.0              ┆ 1.4               ┆ 0.2              ┆ Iris-setosa │\n",
       "│ 4.7               ┆ 3.2              ┆ 1.3               ┆ 0.2              ┆ Iris-setosa │\n",
       "│ 4.6               ┆ 3.1              ┆ 1.5               ┆ 0.2              ┆ Iris-setosa │\n",
       "│ 5.0               ┆ 3.6              ┆ 1.4               ┆ 0.2              ┆ Iris-setosa │\n",
       "└───────────────────┴──────────────────┴───────────────────┴──────────────────┴─────────────┘"
      ]
     },
     "execution_count": 196,
     "metadata": {},
     "output_type": "execute_result"
    }
   ],
   "source": [
    "df.head()\n",
    "#EL DATA FRAME ORIGINAL"
   ]
  },
  {
   "cell_type": "code",
   "execution_count": 197,
   "id": "2b64e958",
   "metadata": {},
   "outputs": [
    {
     "data": {
      "text/html": [
       "<div><style>\n",
       ".dataframe > thead > tr > th,\n",
       ".dataframe > tbody > tr > td {\n",
       "  text-align: right;\n",
       "}\n",
       "</style>\n",
       "<small>shape: (5, 5)</small><table border=\"1\" class=\"dataframe\"><thead><tr><th>longitud del sépalo (cm)</th><th>sepal width (cm)</th><th>petal length (cm)</th><th>petal width (cm)</th><th>target</th></tr><tr><td>f64</td><td>f64</td><td>f64</td><td>f64</td><td>str</td></tr></thead><tbody><tr><td>5.1</td><td>3.5</td><td>1.4</td><td>0.2</td><td>&quot;Iris-setosa&quot;</td></tr><tr><td>4.9</td><td>3.0</td><td>1.4</td><td>0.2</td><td>&quot;Iris-setosa&quot;</td></tr><tr><td>4.7</td><td>3.2</td><td>1.3</td><td>0.2</td><td>&quot;Iris-setosa&quot;</td></tr><tr><td>4.6</td><td>3.1</td><td>1.5</td><td>0.2</td><td>&quot;Iris-setosa&quot;</td></tr><tr><td>5.0</td><td>3.6</td><td>1.4</td><td>0.2</td><td>&quot;Iris-setosa&quot;</td></tr></tbody></table></div>"
      ],
      "text/plain": [
       "shape: (5, 5)\n",
       "┌──────────────────────────┬──────────────────┬───────────────────┬──────────────────┬─────────────┐\n",
       "│ longitud del sépalo (cm) ┆ sepal width (cm) ┆ petal length (cm) ┆ petal width (cm) ┆ target      │\n",
       "│ ---                      ┆ ---              ┆ ---               ┆ ---              ┆ ---         │\n",
       "│ f64                      ┆ f64              ┆ f64               ┆ f64              ┆ str         │\n",
       "╞══════════════════════════╪══════════════════╪═══════════════════╪══════════════════╪═════════════╡\n",
       "│ 5.1                      ┆ 3.5              ┆ 1.4               ┆ 0.2              ┆ Iris-setosa │\n",
       "│ 4.9                      ┆ 3.0              ┆ 1.4               ┆ 0.2              ┆ Iris-setosa │\n",
       "│ 4.7                      ┆ 3.2              ┆ 1.3               ┆ 0.2              ┆ Iris-setosa │\n",
       "│ 4.6                      ┆ 3.1              ┆ 1.5               ┆ 0.2              ┆ Iris-setosa │\n",
       "│ 5.0                      ┆ 3.6              ┆ 1.4               ┆ 0.2              ┆ Iris-setosa │\n",
       "└──────────────────────────┴──────────────────┴───────────────────┴──────────────────┴─────────────┘"
      ]
     },
     "execution_count": 197,
     "metadata": {},
     "output_type": "execute_result"
    }
   ],
   "source": [
    "nuevo= df.rename({\"sepal length (cm)\":\"longitud del sépalo (cm)\"})\n",
    "#ESTAMOS CAMBIANDO EL NOMBRE DE LA COLUMNA \"sepal length (cm)\" POR \"longitud del sépalo (cm)\"\n",
    "nuevo.head()"
   ]
  }
 ],
 "metadata": {
  "kernelspec": {
   "display_name": "Python 3 (ipykernel)",
   "language": "python",
   "name": "python3"
  },
  "language_info": {
   "codemirror_mode": {
    "name": "ipython",
    "version": 3
   },
   "file_extension": ".py",
   "mimetype": "text/x-python",
   "name": "python",
   "nbconvert_exporter": "python",
   "pygments_lexer": "ipython3",
   "version": "3.9.13"
  }
 },
 "nbformat": 4,
 "nbformat_minor": 5
}
